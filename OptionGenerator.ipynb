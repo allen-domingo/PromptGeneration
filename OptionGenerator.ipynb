{
 "cells": [
  {
   "cell_type": "code",
   "execution_count": 199,
   "id": "8a731de0",
   "metadata": {},
   "outputs": [
    {
     "name": "stdout",
     "output_type": "stream",
     "text": [
      "You have two options, get $24 for sure or a 80.0% chance for $35.0 with a 20.0% chance for $0\n"
     ]
    }
   ],
   "source": [
    "import random\n",
    "\n",
    "sure_option = round(random.randrange(4,30))\n",
    " \n",
    "#this is for a higher chance of the risky choice\n",
    "\n",
    "#for variation in prompting\n",
    "definite_phrases = [\"for sure\",\"for certain\", \"definitely\"]\n",
    "\n",
    "def_phrase_picked = definite_phrases[random.randrange(0,2)]\n",
    "\n",
    "multiplier = round(random.uniform(1.1,1.8), 1)\n",
    "\n",
    "risk_probability = round(1/multiplier,1)*100\n",
    "\n",
    "risk_option = round(sure_option*multiplier,0) + random.randrange(3,5)\n",
    "\n",
    "prompt_high = f\"You have two options, get ${sure_option} {def_phrase_picked} or a {risk_probability}% chance for ${risk_option} with a {100-risk_probability}% chance for $0\" \n",
    "\n",
    "\n",
    "print(prompt_high)"
   ]
  },
  {
   "cell_type": "code",
   "execution_count": 241,
   "id": "ff528138",
   "metadata": {},
   "outputs": [
    {
     "name": "stdout",
     "output_type": "stream",
     "text": [
      "You have two options, get $24 for sure or a 30.0% chance for $75.0 with a 70.0% chance for $0\n"
     ]
    }
   ],
   "source": [
    "#this is for a lower chance of the risky choice\n",
    "multiplier_low = round(random.uniform(2,5), 1)\n",
    "\n",
    "risk_probability_low = round(1/multiplier,1)*100\n",
    "\n",
    "risk_option_low = round(sure_option*multiplier,0) + random.randrange(3,5)\n",
    "\n",
    "prompt_low = f\"You have two options, get ${sure_option} {def_phrase_picked} or a {risk_probability_low}% chance for ${risk_option_low} with a {100-risk_probability_low}% chance for $0\" \n",
    "print(prompt_low)"
   ]
  },
  {
   "cell_type": "code",
   "execution_count": null,
   "id": "1b407c9f",
   "metadata": {},
   "outputs": [],
   "source": [
    "prompt_high_loss = f\"You have two options, get ${sure_option} loss {def_phrase_picked} or a {risk_probability}% chance for ${risk_option} loss with a {100-risk_probability}% chance for $0 loss\"\n",
    "prompt_low_loss = f\"You have two options, get ${sure_option} loss {def_phrase_picked} or a {risk_probability_low}% chance for ${risk_option_low} loss with a {100-risk_probability_low}% chance for $0 loss\" "
   ]
  },
  {
   "cell_type": "code",
   "execution_count": null,
   "id": "aba2f9d5",
   "metadata": {},
   "outputs": [],
   "source": []
  },
  {
   "cell_type": "code",
   "execution_count": null,
   "id": "d4db3187",
   "metadata": {},
   "outputs": [],
   "source": []
  },
  {
   "cell_type": "code",
   "execution_count": null,
   "id": "49284e77",
   "metadata": {},
   "outputs": [],
   "source": []
  },
  {
   "cell_type": "code",
   "execution_count": null,
   "id": "304a3e9f",
   "metadata": {},
   "outputs": [],
   "source": []
  },
  {
   "cell_type": "code",
   "execution_count": null,
   "id": "02467089",
   "metadata": {},
   "outputs": [],
   "source": []
  }
 ],
 "metadata": {
  "kernelspec": {
   "display_name": "Python 3 (ipykernel)",
   "language": "python",
   "name": "python3"
  },
  "language_info": {
   "codemirror_mode": {
    "name": "ipython",
    "version": 3
   },
   "file_extension": ".py",
   "mimetype": "text/x-python",
   "name": "python",
   "nbconvert_exporter": "python",
   "pygments_lexer": "ipython3",
   "version": "3.9.13"
  }
 },
 "nbformat": 4,
 "nbformat_minor": 5
}
